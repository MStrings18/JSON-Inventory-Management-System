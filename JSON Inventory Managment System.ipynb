{
 "cells": [
  {
   "cell_type": "markdown",
   "id": "908f92fa-1415-4e2d-b006-8b97857bdd26",
   "metadata": {},
   "source": [
    "Sample Invenntory:\n"
   ]
  },
  {
   "cell_type": "code",
   "execution_count": 48,
   "id": "48d778fa-ba52-4cb3-b0ef-39d65d0ec270",
   "metadata": {},
   "outputs": [],
   "source": [
    "inventory_dict={\"1001\":{\"name\":\"Item A\",\"price\":10,\"stock\":100},\n",
    "                \"1002\":{\"name\":\"Item B\",\"price\":20,\"stock\":100},\n",
    "                \"1003\":{\"name\":\"Item C\",\"price\":30,\"stock\":100},\n",
    "                \"1004\":{\"name\":\"Item D\",\"price\":40,\"stock\":100},\n",
    "                \"1005\":{\"name\":\"Item E\",\"price\":50,\"stock\":100},\n",
    "                \"1006\":{\"name\":\"Item F\",\"price\":60,\"stock\":100},\n",
    "                \"1007\":{\"name\":\"Item G\",\"price\":70,\"stock\":100},\n",
    "}"
   ]
  },
  {
   "cell_type": "markdown",
   "id": "710461fc-56a9-4778-92a4-8fdd6f11d93c",
   "metadata": {},
   "source": [
    "---------Code Starts------->"
   ]
  },
  {
   "cell_type": "code",
   "execution_count": 58,
   "id": "983263f5-17b8-4eed-a4ad-b0964159bbd7",
   "metadata": {},
   "outputs": [],
   "source": [
    "import json\n",
    "from datetime import datetime"
   ]
  },
  {
   "cell_type": "markdown",
   "id": "ded95758-4329-41e0-b2f7-0d51ec49b805",
   "metadata": {},
   "source": [
    "-------Reading Inventory File---------->"
   ]
  },
  {
   "cell_type": "code",
   "execution_count": 51,
   "id": "956d735c-9886-4456-a9d0-7e9e63f660c9",
   "metadata": {},
   "outputs": [],
   "source": [
    "try:\n",
    "    fd=open(\"Inventory.json\",\"r\")\n",
    "    txt=fd.read()\n",
    "    inventory_dict=json.loads(txt)\n",
    "except Exception as e:\n",
    "    print(e)"
   ]
  },
  {
   "cell_type": "markdown",
   "id": "889c53c9-4cb2-4fec-a326-cf78c0a0888b",
   "metadata": {},
   "source": [
    "--------Readng Sales File--------->"
   ]
  },
  {
   "cell_type": "code",
   "execution_count": 52,
   "id": "1e43b4c8-4c2c-41eb-8544-e952b07c3801",
   "metadata": {},
   "outputs": [],
   "source": [
    "try:\n",
    "    fd2=open(\"Sales.txt\",\"r\")\n",
    "    sales=fd2.read()+\"\\n\"\n",
    "except:\n",
    "    fd2=open(\"Sales.txt\",\"w\")\n",
    "    sales=\"\"\n",
    "    fd2.write(sales)\n",
    "fd2.close()"
   ]
  },
  {
   "cell_type": "markdown",
   "id": "68045e38-d776-4854-966d-3961f6bb23ee",
   "metadata": {},
   "source": [
    "----------Taking User Info------->"
   ]
  },
  {
   "cell_type": "code",
   "execution_count": 53,
   "id": "c66fa810-6684-40ea-8af9-99b69ae41d5c",
   "metadata": {},
   "outputs": [
    {
     "name": "stdin",
     "output_type": "stream",
     "text": [
      "Enter Phone Number :  1234567890\n"
     ]
    },
    {
     "name": "stdout",
     "output_type": "stream",
     "text": [
      "Welcome Back Random Chickibum!\n"
     ]
    }
   ],
   "source": [
    "t=0\n",
    "while t==0:\n",
    "    userph=input(\"Enter Phone Number : \")\n",
    "    while True:\n",
    "        try:\n",
    "            int(userph)\n",
    "        except:\n",
    "            print(\"Enter a valid phonne number\")\n",
    "            continue\n",
    "        break\n",
    "    if len(userph)!=10:\n",
    "        print(\"Enter a valid phonne number\")\n",
    "    else:\n",
    "        break\n",
    "exists=False\n",
    "sales_list=sales.split(\"\\n\")\n",
    "for sale in sales_list:\n",
    "    ph=sale.split(\",\")[0]\n",
    "    if ph==userph:\n",
    "        username=sale.split(\",\")[1]\n",
    "        print(\"Welcome Back \"+username+\"!\")\n",
    "        exists=True\n",
    "        break\n",
    "if not exists:\n",
    "    username=input(\"Enter Full Name  : \")"
   ]
  },
  {
   "cell_type": "markdown",
   "id": "4440bb28-d7fb-4dc2-9e25-a8d6f85c5d65",
   "metadata": {},
   "source": [
    "--------Taking Bill Info----------->"
   ]
  },
  {
   "cell_type": "code",
   "execution_count": 57,
   "id": "d2abf00d-08d1-4f8d-8c3f-c726bf955923",
   "metadata": {},
   "outputs": [
    {
     "name": "stdin",
     "output_type": "stream",
     "text": [
      "Product ID (Enter X/x to generte bill) :  x\n"
     ]
    },
    {
     "name": "stdout",
     "output_type": "stream",
     "text": [
      "\n",
      "User : Random Chickibum\n",
      "Contact Number : 1234567890\n",
      "01-06-2024\n",
      "-------------------BILL--------------------\n",
      "-------------------------------------------\n",
      "TOTAL : 0\n",
      "-------------------------------------------\n"
     ]
    }
   ],
   "source": [
    "bill={}\n",
    "purchased_items=0\n",
    "while True:\n",
    "    pID=input(\"Product ID (Enter X/x to generte bill) : \")\n",
    "    pQn=int()\n",
    "    price=int()\n",
    "    if pID==\"☓\" or pID==\"x\":\n",
    "        break\n",
    "    elif  pID not in inventory_dict.keys():\n",
    "        print(\"--------Invalid Product ID Entered---------\")\n",
    "    elif inventory_dict[pID][\"stock\"]==0:\n",
    "        print(\"Item out of stock\")\n",
    "                    \n",
    "    else:\n",
    "        print(\"Item Selected : \"+inventory_dict[pID][\"name\"])\n",
    "        f=0\n",
    "        while f==0:\n",
    "            pQn_str=input(\"Quantity (Enter X/x to deselect item): \")\n",
    "            if pQn_str==\"X\" or pQn_str==\"x\":\n",
    "                f=1\n",
    "            else:\n",
    "                try:\n",
    "                    pQn=int(pQn_str)\n",
    "                except:\n",
    "                    print(\"---------Invalid Quantity Entered----------\")\n",
    "                    continue\n",
    "                if pQn<1:\n",
    "                    print(\"---------Invalid Quantity Entered----------\")\n",
    "                else:\n",
    "                    if inventory_dict[pID][\"stock\"]>=pQn:\n",
    "                        f=1\n",
    "                        inventory_dict[pID][\"stock\"]=inventory_dict[pID][\"stock\"]-pQn\n",
    "                        price=pQn*inventory_dict[pID][\"price\"]\n",
    "                        bill[purchased_items]={\"pID\":pID,\"quantity\":pQn,\"price\":price}\n",
    "                        purchased_items+=1\n",
    "                    else:\n",
    "                        print(\"Not enough stock (Available stock = \"+str(inventory_dict[pID][\"stock\"])+\")\")\n",
    "print(\"\")\n",
    "print(\"User : \"+username)\n",
    "print(\"Contact Number : \"+userph)\n",
    "date=datetime.today().strftime(\"%d-%m-%Y\")\n",
    "print(date)\n",
    "print(\"-------------------BILL--------------------\")\n",
    "total=0\n",
    "for i in range(purchased_items):\n",
    "    print(inventory_dict[bill[i][\"pID\"]][\"name\"]+\" : \"+str(bill[i][\"quantity\"])+\"*\"+str(inventory_dict[bill[i][\"pID\"]][\"price\"])+\"=\"+str(bill[i][\"price\"]))\n",
    "    total=total+bill[i][\"price\"]\n",
    "    sales=sales+userph+\",\"+username+\",\"+date+\",\"+inventory_dict[bill[i][\"pID\"]][\"name\"]+\",\"+str(bill[i][\"quantity\"])+\"\\n\"\n",
    "sales=sales[0:len(sales)-1]\n",
    "print(\"-------------------------------------------\")\n",
    "print(\"TOTAL : \"+str(total))\n",
    "print(\"-------------------------------------------\")"
   ]
  },
  {
   "cell_type": "markdown",
   "id": "6453f3ba-9526-43ce-b8dc-978d817370ba",
   "metadata": {},
   "source": [
    "--------Updating Sales File-------->"
   ]
  },
  {
   "cell_type": "code",
   "execution_count": 55,
   "id": "326c7859-c18a-4ab3-ac47-a22d06228209",
   "metadata": {},
   "outputs": [],
   "source": [
    "fd2=open(\"Sales.txt\",\"w\")\n",
    "fd2.write(sales)\n",
    "fd2.close()"
   ]
  },
  {
   "cell_type": "markdown",
   "id": "234018f5-f23e-4add-b598-1ce5380416b2",
   "metadata": {},
   "source": [
    "--------Updating  Inventory-------->"
   ]
  },
  {
   "cell_type": "code",
   "execution_count": 61,
   "id": "dce13898-1ce9-47ce-a7ae-1a12ee4668b5",
   "metadata": {},
   "outputs": [],
   "source": [
    "txt=json.dumps(inventory_dict)\n",
    "fd=open(\"Inventory.json\",\"w\")\n",
    "fd.write(txt)\n",
    "fd.close()"
   ]
  },
  {
   "cell_type": "code",
   "execution_count": null,
   "id": "8edc528b-c6d4-4790-b333-8665f8fbc0c3",
   "metadata": {},
   "outputs": [],
   "source": []
  }
 ],
 "metadata": {
  "kernelspec": {
   "display_name": "Python 3 (ipykernel)",
   "language": "python",
   "name": "python3"
  },
  "language_info": {
   "codemirror_mode": {
    "name": "ipython",
    "version": 3
   },
   "file_extension": ".py",
   "mimetype": "text/x-python",
   "name": "python",
   "nbconvert_exporter": "python",
   "pygments_lexer": "ipython3",
   "version": "3.11.7"
  }
 },
 "nbformat": 4,
 "nbformat_minor": 5
}
