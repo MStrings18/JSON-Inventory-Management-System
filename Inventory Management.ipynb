{
 "cells": [
  {
   "cell_type": "code",
   "execution_count": 44,
   "id": "32d728ef-8fbd-4378-a7ba-00d5b439739b",
   "metadata": {},
   "outputs": [],
   "source": [
    "fd=open(\"Inventory.txt\",\"w\")\n",
    "fd.write(\"1,5 Star,5,100\\n2,Milky Bar,10,100\\n3,Cake,50,10\\n4,Bread,30,20\")\n",
    "fd.close()"
   ]
  },
  {
   "cell_type": "code",
   "execution_count": 45,
   "id": "b56642e4-98ef-42fe-aea6-df4ba0dc6321",
   "metadata": {},
   "outputs": [
    {
     "data": {
      "text/plain": [
       "['1,5 Star,5,100', '2,Milky Bar,10,100', '3,Cake,50,10', '4,Bread,30,20']"
      ]
     },
     "execution_count": 45,
     "metadata": {},
     "output_type": "execute_result"
    }
   ],
   "source": [
    "fd=open(\"Inventory.txt\",\"r\")\n",
    "product_list=fd.read().split(\"\\n\")\n",
    "fd.close()\n",
    "product_list"
   ]
  },
  {
   "cell_type": "code",
   "execution_count": 47,
   "id": "6153579a-67d6-4871-b1cd-ca3a6c250473",
   "metadata": {},
   "outputs": [
    {
     "name": "stdin",
     "output_type": "stream",
     "text": [
      "Enter Product ID:  2\n",
      "Enter Quantity:  20\n"
     ]
    },
    {
     "name": "stdout",
     "output_type": "stream",
     "text": [
      "--------------------------------\n",
      "Product ID         : 2\n",
      "Product Name       : Milky Bar\n",
      "Product Quantity   : 20\n",
      "Product Price      : 10\n",
      "--------------------------------\n",
      "BILLING AMOUNT     : 200\n",
      "--------------------------------\n"
     ]
    }
   ],
   "source": [
    "productID=int(input(\"Enter Product ID: \"))\n",
    "productQuantity=int(input(\"Enter Quantity: \"))\n",
    "price=int()\n",
    "update_txt=str()\n",
    "\n",
    "for productIndex in range(len(product_list)):\n",
    "    product_details=product_list[productIndex].split(\",\")\n",
    "    if int(product_details[0])==productID:\n",
    "        if int(product_details[3])>=productQuantity:\n",
    "            product_details[3]=str(int(product_details[3])-productQuantity)\n",
    "            product_list[productIndex]=product_details[0]+\",\"+product_details[1]+\",\"+product_details[2]+\",\"+product_details[3]\n",
    "            price=int(product_details[2])*productQuantity\n",
    "            print(\"--------------------------------\")\n",
    "            print(\"Product ID         : \"+product_details[0])\n",
    "            print(\"Product Name       : \"+product_details[1])\n",
    "            print(\"Product Quantity   : \"+str(productQuantity))\n",
    "            print(\"Product Price      : \"+product_details[2])\n",
    "            print(\"--------------------------------\")\n",
    "            print(\"BILLING AMOUNT     : \"+str(price))\n",
    "            print(\"--------------------------------\")\n",
    "            update_txt=product_list[0]\n",
    "            for i in range(1,len(product_list)):\n",
    "                update_txt=update_txt+\"\\n\"+product_list[i]\n",
    "            fd=open(\"Inventory.txt\",\"w\")\n",
    "            fd.write(update_txt)\n",
    "            fd.close()\n",
    "        else:\n",
    "            print(\"Not Enough Stock!\")\n",
    "#print(product_list)\n",
    "#update_txt"
   ]
  },
  {
   "cell_type": "code",
   "execution_count": null,
   "id": "6af6606b-d1d3-423f-985b-384cddfbdafe",
   "metadata": {},
   "outputs": [],
   "source": []
  }
 ],
 "metadata": {
  "kernelspec": {
   "display_name": "Python 3 (ipykernel)",
   "language": "python",
   "name": "python3"
  },
  "language_info": {
   "codemirror_mode": {
    "name": "ipython",
    "version": 3
   },
   "file_extension": ".py",
   "mimetype": "text/x-python",
   "name": "python",
   "nbconvert_exporter": "python",
   "pygments_lexer": "ipython3",
   "version": "3.11.7"
  }
 },
 "nbformat": 4,
 "nbformat_minor": 5
}
